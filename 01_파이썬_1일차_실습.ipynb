{
  "nbformat": 4,
  "nbformat_minor": 0,
  "metadata": {
    "colab": {
      "provenance": [],
      "authorship_tag": "ABX9TyM+kj9Kw4eKoTbYOWA5EMlk",
      "include_colab_link": true
    },
    "kernelspec": {
      "name": "python3",
      "display_name": "Python 3"
    },
    "language_info": {
      "name": "python"
    }
  },
  "cells": [
    {
      "cell_type": "markdown",
      "metadata": {
        "id": "view-in-github",
        "colab_type": "text"
      },
      "source": [
        "<a href=\"https://colab.research.google.com/github/jaimyisnice/gangnam_bioinformatics/blob/master/01_%ED%8C%8C%EC%9D%B4%EC%8D%AC_1%EC%9D%BC%EC%B0%A8_%EC%8B%A4%EC%8A%B5.ipynb\" target=\"_parent\"><img src=\"https://colab.research.google.com/assets/colab-badge.svg\" alt=\"Open In Colab\"/></a>"
      ]
    },
    {
      "cell_type": "markdown",
      "source": [
        "#파이썬 사용을 위해 알아 두어야 할 사항!\n",
        "\n",
        "1) 파이썬 명령은 기본적으로 위에서 아래로 순차 처리된다.\n",
        "2) 중간에 오류가 발생하면 그 다음 행은 실행 안됨.\n",
        "3) 들여쓰기(tab키로 이동) 도 명령의 일종으로 아무 곳에 공백 만들면 안됨.\n",
        "4) 주석은 #(한 줄 주석)으로 표시한다.\n",
        "5) 대소문자를 철저히 구별한다.\n",
        "\n",
        "#파이썬 자료형\n",
        "\n",
        "1)숫자형: 정수, 실수, 8진수, 16진수, 복소수\n",
        "2)문자열: 문자들의 집합으로 작은 따음표 ('') 끝따옴표 (\"\") 안에 들어간 모든 글자.\n",
        "3) 참거짓: 참 거짓\n",
        "\n",
        "\n"
      ],
      "metadata": {
        "id": "Ynz1wFdjd3d6"
      }
    },
    {
      "cell_type": "code",
      "source": [
        "##데이터 형태를 확인해 주는 함수 : type()\n",
        "#화면에 출력해주는 함수 : print()\n",
        "\n",
        "print(type(100))\n",
        "#print는 결과를 화면에 출력하는 함수다.\n",
        "\n",
        "type(100.0)\n",
        "#셀인 경우에만 프린트 함수 안써도 화면에 출력된다. 코랩에서 맨 마지막 행에 있는 것들.\n",
        "print(type(100.0))\n",
        "#숫자열\n",
        "print(type('파이썬'))\n",
        "#문자열\n",
        "\n"
      ],
      "metadata": {
        "colab": {
          "base_uri": "https://localhost:8080/"
        },
        "id": "rQ7JIoqpe3Ru",
        "outputId": "99580ad5-906a-4be2-85f2-ef837a4faa2d"
      },
      "execution_count": 8,
      "outputs": [
        {
          "output_type": "stream",
          "name": "stdout",
          "text": [
            "<class 'int'>\n",
            "<class 'float'>\n",
            "<class 'str'>\n"
          ]
        }
      ]
    },
    {
      "cell_type": "code",
      "source": [
        "\n",
        "#대부분 변수에 넣어서 사용한다.\n",
        "a = 100\n",
        "b = 50\n",
        "c = '파이썬'\n",
        "print(a+b)\n",
        "print(c)\n",
        "\n",
        ""
      ],
      "metadata": {
        "colab": {
          "base_uri": "https://localhost:8080/"
        },
        "id": "TnZD7KERgAz5",
        "outputId": "87df3b8d-24ce-4f36-903f-a38a9e4ed1d8"
      },
      "execution_count": 9,
      "outputs": [
        {
          "output_type": "stream",
          "name": "stdout",
          "text": [
            "150\n",
            "파이썬\n"
          ]
        }
      ]
    },
    {
      "cell_type": "code",
      "source": [
        "#변수는 데이터를 저장할 수 있는 공간.\n",
        "#가장 많이 사용하는 변수는 불형(boolean), 정수형, 실수형, 문자열 순서다.\n",
        "\n",
        "#변수 사용할 때 주의사항\n",
        "#첫 글자는 영문, 언더바, 한글이다\n",
        "#대소문자 구분해서 사용\n",
        "#이미 다른 용도로 사용되고 예약어 사용 안됨.\n",
        "\n"
      ],
      "metadata": {
        "id": "nNBEaCnQgYG5"
      },
      "execution_count": null,
      "outputs": []
    },
    {
      "cell_type": "code",
      "source": [
        "#변수명 사용 규칙\n",
        "\n",
        "사과 = '사과'\n",
        "print(사과)\n",
        "\n",
        "사과 = '수박'\n",
        "print (사과)"
      ],
      "metadata": {
        "colab": {
          "base_uri": "https://localhost:8080/"
        },
        "id": "YIF8t1PZg5-O",
        "outputId": "8b99bd66-8bcf-4273-f662-0abdf9a1c9cd"
      },
      "execution_count": 12,
      "outputs": [
        {
          "output_type": "stream",
          "name": "stdout",
          "text": [
            "사과\n",
            "수박\n"
          ]
        }
      ]
    },
    {
      "cell_type": "code",
      "source": [
        "#퀴즈_변수\n",
        "#변수명 : 컴퓨터, file_building\n"
      ],
      "metadata": {
        "id": "vCH-qIwEhRfo"
      },
      "execution_count": null,
      "outputs": []
    },
    {
      "cell_type": "code",
      "source": [
        "a = 3.14\n",
        "b = 314\n",
        "print(int(a))\n",
        "#int에 넣는 숫자는 무조건 정수(숫자)로 나온다.\n",
        "print(float(b))\n",
        "#float에 넣는 숫자는 무조건 실수(소수점)"
      ],
      "metadata": {
        "colab": {
          "base_uri": "https://localhost:8080/"
        },
        "id": "1pzsZsUwhqKb",
        "outputId": "3456ab4d-82c1-4554-ac45-f01c6a37a626"
      },
      "execution_count": 13,
      "outputs": [
        {
          "output_type": "stream",
          "name": "stdout",
          "text": [
            "3\n",
            "314.0\n"
          ]
        }
      ]
    },
    {
      "cell_type": "code",
      "source": [
        "# + : 문자열을 붙여서 표현한다.\n",
        "print('오늘은' + '파이썬 첫째날!')\n",
        "print('오늘은' + '파이썬' + '첫째날!')"
      ],
      "metadata": {
        "colab": {
          "base_uri": "https://localhost:8080/"
        },
        "id": "0DJkKNCip15P",
        "outputId": "1ddae1f0-0859-4448-b1c0-4ad261954045"
      },
      "execution_count": 17,
      "outputs": [
        {
          "output_type": "stream",
          "name": "stdout",
          "text": [
            "오늘은파이썬 첫째날!\n",
            "오늘은파이썬첫째날!\n"
          ]
        }
      ]
    },
    {
      "cell_type": "code",
      "source": [
        "# * : 문자열을 반복한다.\n",
        "print('반짝' * 5)\n",
        "print('-' * 50)"
      ],
      "metadata": {
        "colab": {
          "base_uri": "https://localhost:8080/"
        },
        "id": "ieZb1IrtqDge",
        "outputId": "59743fc9-97c2-4041-b72c-1f38b96b25e0"
      },
      "execution_count": 15,
      "outputs": [
        {
          "output_type": "stream",
          "name": "stdout",
          "text": [
            "반짝반짝반짝반짝반짝\n",
            "--------------------------------------------------\n"
          ]
        }
      ]
    },
    {
      "cell_type": "markdown",
      "source": [
        "###Bool type\n",
        "\n"
      ],
      "metadata": {
        "id": "88WiogEGqasI"
      }
    },
    {
      "cell_type": "code",
      "source": [
        "# a = True\n",
        "# b = False\n",
        "# print(a, b)\n",
        "\n",
        "a = 100\n",
        "b = 200\n",
        "print(a < b)\n",
        "\n",
        "a = 100\n",
        "b = 200\n",
        "print(a > b)\n",
        "\n",
        "a = 100\n",
        "b = 200\n",
        "print(type(a > b))\n",
        "\n",
        "#반복문, 조건문 비교할 때 불타입 사용한다."
      ],
      "metadata": {
        "colab": {
          "base_uri": "https://localhost:8080/"
        },
        "id": "2vnNk58Tqfld",
        "outputId": "fedb08d8-cbf4-4de7-ee61-31f00b353f7f"
      },
      "execution_count": 22,
      "outputs": [
        {
          "output_type": "stream",
          "name": "stdout",
          "text": [
            "True\n",
            "False\n",
            "<class 'bool'>\n"
          ]
        }
      ]
    },
    {
      "cell_type": "markdown",
      "source": [
        "###input (키보드로 부터 정보를 받으면 무조건 문자열형 string 타입 데이터다)\n"
      ],
      "metadata": {
        "id": "JG5UB0lErvQA"
      }
    },
    {
      "cell_type": "markdown",
      "source": [
        "###파이썬 기본 입출력\n"
      ],
      "metadata": {
        "id": "Jyq71V-Jsvja"
      }
    },
    {
      "cell_type": "code",
      "source": [
        "# 파이썬으로 사칙연산 하기 프로그램\n",
        "a = input()\n",
        "print('a의 값은: ', a)\n",
        "\n",
        "a = input('키보드로 입력하세요: ')\n",
        "print('a의 값은: ', a, type(a))"
      ],
      "metadata": {
        "colab": {
          "base_uri": "https://localhost:8080/"
        },
        "id": "LTBcWmFNtD5G",
        "outputId": "d636564a-7e1a-4fdf-8db0-b31410086626"
      },
      "execution_count": 25,
      "outputs": [
        {
          "output_type": "stream",
          "name": "stdout",
          "text": [
            "100\n",
            "a의 값은:  100\n",
            "키보드로 입력하세요: 100\n",
            "a의 값은:  100 <class 'str'>\n"
          ]
        }
      ]
    },
    {
      "cell_type": "code",
      "source": [
        "a = int(input('키보드로 입력하세요: '))\n",
        "#이것이 조금더 간략한 파이썬스러운 코드다."
      ],
      "metadata": {
        "colab": {
          "base_uri": "https://localhost:8080/"
        },
        "id": "OfqPIvJUt3-K",
        "outputId": "3a0b5ea6-bcee-40ee-aa35-679229a7ec9b"
      },
      "execution_count": 27,
      "outputs": [
        {
          "name": "stdout",
          "output_type": "stream",
          "text": [
            "키보드로 입력하세요: 100\n"
          ]
        }
      ]
    },
    {
      "cell_type": "code",
      "source": [
        "num1 = int( input('첫 번째 숫자: '))\n",
        "num2 = int( input('두 번째 숫자: '))\n",
        "print('-' * 30)\n",
        "print('덧셈: %d + %d = %d' % (num1, num2, num1+num2))\n",
        "print('뺄셈: %d - %d = %d' % (num1, num2, num1-num2))\n",
        "print('곱셈: %d * %d = %d' % (num1, num2, num1*num2))\n",
        "print('나눗셈: %d / %d = %d' % (num1, num2, num1/num2))\n",
        "\n",
        "#포매팅 함수라고 부른다."
      ],
      "metadata": {
        "colab": {
          "base_uri": "https://localhost:8080/"
        },
        "id": "J8VyL6FPuahi",
        "outputId": "780959fa-38cb-48e9-f9a4-67a3b2849707"
      },
      "execution_count": 32,
      "outputs": [
        {
          "output_type": "stream",
          "name": "stdout",
          "text": [
            "첫 번째 숫자: 200\n",
            "두 번째 숫자: 30\n",
            "------------------------------\n",
            "덧셈: 200 + 30 = 230\n",
            "뺄셈: 200 - 30 = 170\n",
            "곱셈: 200 * 30 = 6000\n",
            "나눗셈: 200 / 30 = 6\n"
          ]
        }
      ]
    },
    {
      "cell_type": "code",
      "source": [
        "#강사가 자주 사용하는 함수는 에프스트링.\n",
        "#위에랑 같은 결과 값이다.\n",
        "\n",
        "num1 = int( input('첫 번째 숫자: '))\n",
        "num2 = int( input('두 번째 숫자: '))\n",
        "print('-' * 30)\n",
        "print(f'덧셈: {num1} + {num2:>3} = {num1+num2}')\n",
        "print(f'뺄셈: {num1} - {num2:0>3} = {num1-num2}')\n",
        "print(f'곱셈: {num1} * {num2} = {num1*num2}')\n",
        "print(f'나눗셈: {num1} / {num2} = {num1/num2}') #강사가 자주 사용하는 에프스트링 함수."
      ],
      "metadata": {
        "colab": {
          "base_uri": "https://localhost:8080/"
        },
        "id": "Wu92ZI_lwVDP",
        "outputId": "d866a93e-4653-48f8-b570-f2939719999c"
      },
      "execution_count": 34,
      "outputs": [
        {
          "output_type": "stream",
          "name": "stdout",
          "text": [
            "첫 번째 숫자: 200\n",
            "두 번째 숫자: 30\n",
            "------------------------------\n",
            "덧셈: 200 +  30 = 230\n",
            "뺄셈: 200 - 030 = 170\n",
            "곱셈: 200 * 30 = 6000\n",
            "나눗셈: 200 / 30 = 6.666666666666667\n"
          ]
        }
      ]
    },
    {
      "cell_type": "code",
      "source": [
        "#속도와 거리를 입력 받아 시간을 계산하여 출력하는 프로그램 만들라.\n",
        "\n",
        "#시간(time)=거리(distance)/속도(velocity)\n",
        "\n",
        "a = int( input('거리'))\n",
        "b = int( input('속도'))\n",
        "print(f'시간: {num1} / {num2} = {num1/num2}')\n"
      ],
      "metadata": {
        "colab": {
          "base_uri": "https://localhost:8080/"
        },
        "id": "EZET7EQXyiIy",
        "outputId": "2ad3c281-11cb-40dd-c0a8-a9e6ad93b411"
      },
      "execution_count": 36,
      "outputs": [
        {
          "output_type": "stream",
          "name": "stdout",
          "text": [
            "거리50\n",
            "속도200\n",
            "시간: 50 / 200 = 0.25\n"
          ]
        }
      ]
    },
    {
      "cell_type": "code",
      "source": [
        "velocity = float(input(\"속도를 입력하세요: \"))\n",
        "distance = float(input(\"거리를 입력하세요: \"))\n",
        "\n",
        "time = distance / velocity\n",
        "print(f\"시간: {distance} / {velocity} = {time:.1f} 시간\") #소수점 첫째짜리까지 입력 .1f"
      ],
      "metadata": {
        "colab": {
          "base_uri": "https://localhost:8080/"
        },
        "id": "3vpddtle1I3h",
        "outputId": "3c9d90d3-d6f4-4166-83ed-49203a7ae02c"
      },
      "execution_count": 40,
      "outputs": [
        {
          "output_type": "stream",
          "name": "stdout",
          "text": [
            "속도를 입력하세요: 200\n",
            "거리를 입력하세요: 50\n",
            "시간: 50.0 / 200.0 = 0.2 시간\n"
          ]
        }
      ]
    },
    {
      "cell_type": "code",
      "source": [
        "num1 = int(input('속도를 입력해 주세요:'))\n",
        "num2 = int(input('거리를 입력해 주세요:'))\n",
        "print(f'나눗셈: {num2} / {num1} = {num2 / num1 }')"
      ],
      "metadata": {
        "colab": {
          "base_uri": "https://localhost:8080/"
        },
        "id": "f8YbnPA13OtP",
        "outputId": "d5c3a04d-efeb-4b0d-bd54-c609cdb5e365"
      },
      "execution_count": 41,
      "outputs": [
        {
          "output_type": "stream",
          "name": "stdout",
          "text": [
            "속도를 입력해 주세요:200\n",
            "거리를 입력해 주세요:50\n",
            "나눗셈: 50 / 200 = 0.25\n"
          ]
        }
      ]
    },
    {
      "cell_type": "code",
      "source": [
        "a = input('정수를 입력하세요: ')\n",
        "\n",
        "result = int(a) + int(a * 2) + int(a * 3)\n",
        "print(f'{a} + {a * 2} + {a * 3} = {result}')"
      ],
      "metadata": {
        "colab": {
          "base_uri": "https://localhost:8080/"
        },
        "id": "K189TGTd5VLP",
        "outputId": "f9ee5b3c-4324-4cc0-a85e-eb81305c6aca"
      },
      "execution_count": 43,
      "outputs": [
        {
          "output_type": "stream",
          "name": "stdout",
          "text": [
            "정수를 입력하세요: 7\n",
            "7 + 77 + 777 = 861\n"
          ]
        }
      ]
    },
    {
      "cell_type": "code",
      "source": [
        "a = int(input(\"정수를 입력하세요: \"))\n",
        "\n",
        "n1=a\n",
        "n2=10*a+a\n",
        "n3=100*a+10*a+a\n",
        "\n",
        "\n",
        "print(f\"{n1} + {n2} + {n3} = {n1+n2+n3}\")"
      ],
      "metadata": {
        "colab": {
          "base_uri": "https://localhost:8080/"
        },
        "id": "nx5uEiGR6Alq",
        "outputId": "7c6f978c-6c1d-4c74-8698-5e90808e6396"
      },
      "execution_count": 44,
      "outputs": [
        {
          "output_type": "stream",
          "name": "stdout",
          "text": [
            "정수를 입력하세요: 7\n",
            "7 + 77 + 777 = 861\n"
          ]
        }
      ]
    },
    {
      "cell_type": "code",
      "source": [
        "a = int(input('정수를 입력하세요 :'))\n",
        "print(f'{a} + {11 * a} + {111 * a} = {123 * a}')\n"
      ],
      "metadata": {
        "colab": {
          "base_uri": "https://localhost:8080/"
        },
        "id": "Mro0wiWt6R5v",
        "outputId": "4390be6c-6b02-4cdf-eb56-a08010534cae"
      },
      "execution_count": 45,
      "outputs": [
        {
          "output_type": "stream",
          "name": "stdout",
          "text": [
            "정수를 입력하세요 :7\n",
            "7 + 77 + 777 = 861\n"
          ]
        }
      ]
    },
    {
      "cell_type": "code",
      "source": [
        "# 정석대로 푸는 방법 (교과서 참고하기)"
      ],
      "metadata": {
        "id": "aHfFiQpW7AK0"
      },
      "execution_count": null,
      "outputs": []
    },
    {
      "cell_type": "code",
      "source": [
        "#eva() : 문자열을 숫자처럼 계산해준다.\n",
        "\n",
        "\n",
        "\n",
        "a = input('정수를 입력하세요: ')\n",
        "result = f'{a} + {a+a} + {a+a+a}'\n",
        "print(f'{result} = {eval(result)}')"
      ],
      "metadata": {
        "colab": {
          "base_uri": "https://localhost:8080/"
        },
        "id": "aohFfoqN8A-P",
        "outputId": "c64fbd2b-fa5d-4361-afe0-d1d0550ff9e2"
      },
      "execution_count": 48,
      "outputs": [
        {
          "output_type": "stream",
          "name": "stdout",
          "text": [
            "정수를 입력하세요: 7\n",
            "7 + 77 + 777 = 861\n"
          ]
        }
      ]
    }
  ]
}