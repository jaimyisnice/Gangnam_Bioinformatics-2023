{
  "nbformat": 4,
  "nbformat_minor": 0,
  "metadata": {
    "colab": {
      "provenance": [],
      "authorship_tag": "ABX9TyNrm9MCL22fRaSjGS93Aejo",
      "include_colab_link": true
    },
    "kernelspec": {
      "name": "python3",
      "display_name": "Python 3"
    },
    "language_info": {
      "name": "python"
    }
  },
  "cells": [
    {
      "cell_type": "markdown",
      "metadata": {
        "id": "view-in-github",
        "colab_type": "text"
      },
      "source": [
        "<a href=\"https://colab.research.google.com/github/jaimyisnice/gangnam_bioinformatics/blob/master/test4.ipynb\" target=\"_parent\"><img src=\"https://colab.research.google.com/assets/colab-badge.svg\" alt=\"Open In Colab\"/></a>"
      ]
    },
    {
      "cell_type": "markdown",
      "source": [
        "# 나의 네 번째 파이썬 코드\n",
        "## 코랩에서 작성된 코드\n",
        "### 간단한 사칙연산 출력\n",
        "\n",
        "코랩에서 텍스트 작성방법을 설명하고 있습니다.\n",
        "---\n",
        "\n",
        "1. 항목 추가\n",
        "2. 항목 추가\n",
        "\n"
      ],
      "metadata": {
        "id": "w4tyJ9W59w-8"
      }
    },
    {
      "cell_type": "code",
      "execution_count": 2,
      "metadata": {
        "colab": {
          "base_uri": "https://localhost:8080/"
        },
        "id": "jKaBCjiu9dvW",
        "outputId": "25ae5fe1-cd3c-4675-db99-fd7ac6150403"
      },
      "outputs": [
        {
          "output_type": "stream",
          "name": "stdout",
          "text": [
            "600\n",
            "-400\n",
            "0.2\n",
            "50000\n"
          ]
        }
      ],
      "source": [
        "print(100+500)\n",
        "print(100-500)\n",
        "print(100/500)\n",
        "print(100*500)"
      ]
    },
    {
      "cell_type": "code",
      "source": [
        "import sys\n",
        "\n",
        "print('나의 네 번째  파이썬 프로그램!')\n",
        "print(sys.version)"
      ],
      "metadata": {
        "colab": {
          "base_uri": "https://localhost:8080/"
        },
        "id": "CBOtTNbM-0JG",
        "outputId": "54186f6c-dd03-43be-efb9-06742c71cd53"
      },
      "execution_count": 3,
      "outputs": [
        {
          "output_type": "stream",
          "name": "stdout",
          "text": [
            "나의 네 번째  파이썬 프로그램!\n",
            "3.10.12 (main, Jun 11 2023, 05:26:28) [GCC 11.4.0]\n"
          ]
        }
      ]
    },
    {
      "cell_type": "code",
      "source": [],
      "metadata": {
        "id": "3NFQx3ooAIrP"
      },
      "execution_count": null,
      "outputs": []
    }
  ]
}