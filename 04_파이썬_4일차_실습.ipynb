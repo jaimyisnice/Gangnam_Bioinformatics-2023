{
  "nbformat": 4,
  "nbformat_minor": 0,
  "metadata": {
    "colab": {
      "provenance": [],
      "authorship_tag": "ABX9TyMwTqHtJYPoq3hZRvQvuyMq",
      "include_colab_link": true
    },
    "kernelspec": {
      "name": "python3",
      "display_name": "Python 3"
    },
    "language_info": {
      "name": "python"
    }
  },
  "cells": [
    {
      "cell_type": "markdown",
      "metadata": {
        "id": "view-in-github",
        "colab_type": "text"
      },
      "source": [
        "<a href=\"https://colab.research.google.com/github/jaimyisnice/Gangnam_Bioinformatics-2023/blob/master/04_%ED%8C%8C%EC%9D%B4%EC%8D%AC_4%EC%9D%BC%EC%B0%A8_%EC%8B%A4%EC%8A%B5.ipynb\" target=\"_parent\"><img src=\"https://colab.research.google.com/assets/colab-badge.svg\" alt=\"Open In Colab\"/></a>"
      ]
    },
    {
      "cell_type": "markdown",
      "source": [
        "###(1~100사이의 비밀의 숫자를 생성시킨 후 숫자를 맞추는 업&다운 게임을 아래와 같이 출력되도록 입력 시도 횟수도 함께 출력."
      ],
      "metadata": {
        "id": "GJjrZ8gHBnli"
      }
    },
    {
      "cell_type": "code",
      "source": [
        "import random\n",
        "secret_code = random.randint(1,100)\n",
        "attempt = 0\n",
        "\n",
        "print('-'*70)\n",
        "print('* 비밀의 숫자가 지정되었습니다.')\n",
        "print('-'*70)\n",
        "\n",
        "while True:\n",
        "  attempt += 1\n",
        "  num = int(input('숫자를 입력하세요: '))\n",
        "  if num < secret_code:\n",
        "    print('비밀의 수는 더 큰 수 입니다.')\n",
        "  elif num > secret_code:\n",
        "    print('비밀의 수는 더 작은 수 입니다.')\n",
        "  elif num == secret_code:\n",
        "    break\n",
        "print('정답입니다.')\n",
        "print('-'*70)\n",
        "print(f'''비밀의 숫자: {secret_code}\n",
        "당신의 입력횟수: {attempt}''')"
      ],
      "metadata": {
        "colab": {
          "base_uri": "https://localhost:8080/"
        },
        "id": "3ebtN6MWBzH2",
        "outputId": "3bb103fd-fdc4-40b8-e548-a2861a1d1112"
      },
      "execution_count": null,
      "outputs": [
        {
          "output_type": "stream",
          "name": "stdout",
          "text": [
            "----------------------------------------------------------------------\n",
            "* 비밀의 숫자가 지정되었습니다.\n",
            "----------------------------------------------------------------------\n",
            "숫자를 입력하세요: 11\n",
            "비밀의 수는 더 큰 수 입니다.\n",
            "숫자를 입력하세요: 50\n",
            "비밀의 수는 더 큰 수 입니다.\n",
            "숫자를 입력하세요: 70\n",
            "비밀의 수는 더 큰 수 입니다.\n",
            "숫자를 입력하세요: 100\n",
            "비밀의 수는 더 작은 수 입니다.\n",
            "숫자를 입력하세요: 90\n",
            "비밀의 수는 더 작은 수 입니다.\n",
            "숫자를 입력하세요: 80\n",
            "비밀의 수는 더 작은 수 입니다.\n",
            "숫자를 입력하세요: 77\n",
            "비밀의 수는 더 작은 수 입니다.\n",
            "숫자를 입력하세요: 76\n",
            "비밀의 수는 더 작은 수 입니다.\n",
            "숫자를 입력하세요: 75\n",
            "정답입니다.\n",
            "----------------------------------------------------------------------\n",
            "비밀의 숫자: 75\n",
            "당신의 입력횟수: 9\n"
          ]
        }
      ]
    },
    {
      "cell_type": "markdown",
      "source": [
        "###공을 일정 높이에서 던졌을 때, 원래 높이의 1/2 만큼 튀어 오른다고 합니다. 그러다가 높이가 0.00001m보다 낮으면 튀어 오르지 않는다고 합니다. while문을 이용하여 이 프로그램을 만들어 보세요."
      ],
      "metadata": {
        "id": "BED5Mq0uHqNk"
      }
    },
    {
      "cell_type": "code",
      "source": [
        "length  = int(input('공의 높이를 입력해주세요(meter): '))\n",
        "meter = length  # 현재 공의 위치(높이)\n",
        "cnt = 0         # 공이 튕긴 횟수\n",
        "while True:\n",
        "    meter = meter / 2\n",
        "    cnt = cnt + 1\n",
        "    print(meter,' : ', cnt)\n",
        "    if meter < 0.00001:\n",
        "        break\n",
        "print(f'{length} 위치에서 공이 튕긴 횟수는 총 {cnt} 입니다.')"
      ],
      "metadata": {
        "colab": {
          "base_uri": "https://localhost:8080/"
        },
        "id": "rRAYBQHvH3Gg",
        "outputId": "ca428322-465e-4f83-d419-3834fe3f898e"
      },
      "execution_count": null,
      "outputs": [
        {
          "output_type": "stream",
          "name": "stdout",
          "text": [
            "공의 높이를 입력해주세요(meter): 21\n",
            "10.5  :  1\n",
            "5.25  :  2\n",
            "2.625  :  3\n",
            "1.3125  :  4\n",
            "0.65625  :  5\n",
            "0.328125  :  6\n",
            "0.1640625  :  7\n",
            "0.08203125  :  8\n",
            "0.041015625  :  9\n",
            "0.0205078125  :  10\n",
            "0.01025390625  :  11\n",
            "0.005126953125  :  12\n",
            "0.0025634765625  :  13\n",
            "0.00128173828125  :  14\n",
            "0.000640869140625  :  15\n",
            "0.0003204345703125  :  16\n",
            "0.00016021728515625  :  17\n",
            "8.0108642578125e-05  :  18\n",
            "4.00543212890625e-05  :  19\n",
            "2.002716064453125e-05  :  20\n",
            "1.0013580322265625e-05  :  21\n",
            "5.0067901611328125e-06  :  22\n",
            "21 위치에서 공이 튕긴 횟수는 총 22 입니다.\n"
          ]
        }
      ]
    },
    {
      "cell_type": "markdown",
      "source": [
        "###enumerate(): 인덱스와 값을 함께 사용할 수 있는 함수"
      ],
      "metadata": {
        "id": "dpV7roU9MuMo"
      }
    },
    {
      "cell_type": "code",
      "source": [
        "a_list = [3,4,6,8,9]\n",
        "six_index = a_list.index(6)\n",
        "print(f'6 이란 값의 인덱스: {six_index}')\n",
        "\n",
        "for idx, v in enumerate(a_list):\n",
        "    print(f'인덱스:{idx}  값:{v}')"
      ],
      "metadata": {
        "colab": {
          "base_uri": "https://localhost:8080/"
        },
        "id": "EbobVknGMdiZ",
        "outputId": "98becd24-20ee-4287-b975-3cb6e59b36ac"
      },
      "execution_count": null,
      "outputs": [
        {
          "output_type": "stream",
          "name": "stdout",
          "text": [
            "6 이란 값의 인덱스: 2\n",
            "인덱스:0  값:3\n",
            "인덱스:1  값:4\n",
            "인덱스:2  값:6\n",
            "인덱스:3  값:8\n",
            "인덱스:4  값:9\n"
          ]
        }
      ]
    },
    {
      "cell_type": "markdown",
      "source": [
        "###인덱스 요소 추가하기"
      ],
      "metadata": {
        "id": "07XfDbkgXAUh"
      }
    },
    {
      "cell_type": "code",
      "source": [
        "colors = ['red, green, blue, orange, purple']\n",
        "print(colors)\n",
        "\n",
        "#맨 뒤에서"
      ],
      "metadata": {
        "id": "--fv4fVUWnKk"
      },
      "execution_count": null,
      "outputs": []
    },
    {
      "cell_type": "markdown",
      "source": [
        "###리스트에서 요소 삭제하기"
      ],
      "metadata": {
        "id": "aAUvvMbcXMgV"
      }
    },
    {
      "cell_type": "code",
      "source": [
        "colors = ['red', 'green', 'blue', 'orange', 'purple']\n",
        "print(colors)\n",
        "\n",
        "#특정 요소 삭제하기 : remove(값)\n",
        "colors.pop()\n",
        "print(colors)\n",
        "\n",
        "#맨 뒤 요소 삭제하기 : pop()\n",
        "colors.pop()\n",
        "print(colors)"
      ],
      "metadata": {
        "colab": {
          "base_uri": "https://localhost:8080/"
        },
        "id": "OIeDmU32XRb6",
        "outputId": "7698d504-e59a-4605-ff00-be80e8c7451f"
      },
      "execution_count": 9,
      "outputs": [
        {
          "output_type": "stream",
          "name": "stdout",
          "text": [
            "['red', 'green', 'blue', 'orange', 'purple']\n",
            "['red', 'green', 'blue', 'orange']\n",
            "['red', 'green', 'blue']\n"
          ]
        }
      ]
    },
    {
      "cell_type": "markdown",
      "source": [
        "###리스트 정렬하기"
      ],
      "metadata": {
        "id": "r2ipP-wvZjKT"
      }
    },
    {
      "cell_type": "code",
      "source": [
        "colors = ['red', 'green', 'blue', 'orange', 'purple']\n",
        "print(colors)\n",
        "\n"
      ],
      "metadata": {
        "id": "zkKbVeJQZn4-"
      },
      "execution_count": null,
      "outputs": []
    },
    {
      "cell_type": "code",
      "source": [
        "numbers = [[1, 2, 3],\n",
        "           [4, 5, [6, 7, 8]],\n",
        "           9,\n",
        "           10]\n",
        "print(len(numbers))\n",
        "print(len(numbers[0]))\n",
        "print(len(numbers[1]))\n"
      ],
      "metadata": {
        "colab": {
          "base_uri": "https://localhost:8080/"
        },
        "id": "pewJXqPxbzic",
        "outputId": "4ce50c20-733c-4bd9-fe48-1072857e8369"
      },
      "execution_count": 12,
      "outputs": [
        {
          "output_type": "stream",
          "name": "stdout",
          "text": [
            "4\n",
            "3\n",
            "3\n"
          ]
        }
      ]
    },
    {
      "cell_type": "code",
      "source": [
        "#실습문제 3행 4열 리스트 출력하기 : 중첩 for문(for+for)\n",
        "\n",
        "rows = 3\n",
        "cols = 4\n",
        "\n",
        "# 3행 4열의 2차원 리스트 생성\n",
        "matrix = []\n",
        "\n",
        "for i in range(rows):\n",
        "    row = []\n",
        "    for j in range(cols):\n",
        "        row.append(0)\n",
        "    matrix.append(row)\n",
        "\n",
        "# 생성된 리스트 출력\n",
        "for row in matrix:\n",
        "    print(row)\n"
      ],
      "metadata": {
        "colab": {
          "base_uri": "https://localhost:8080/"
        },
        "id": "-T5I7On3eB-_",
        "outputId": "cbfbb899-c209-48cb-c34e-e98598b7d429"
      },
      "execution_count": 14,
      "outputs": [
        {
          "output_type": "stream",
          "name": "stdout",
          "text": [
            "[0, 0, 0, 0]\n",
            "[0, 0, 0, 0]\n",
            "[0, 0, 0, 0]\n"
          ]
        }
      ]
    },
    {
      "cell_type": "code",
      "source": [
        "mylist = [i for i in range(10)]\n",
        "print(mylist)\n"
      ],
      "metadata": {
        "colab": {
          "base_uri": "https://localhost:8080/"
        },
        "id": "vZGOoBCIfx1A",
        "outputId": "b90241fa-545c-43e2-ed45-0947171e273a"
      },
      "execution_count": 18,
      "outputs": [
        {
          "output_type": "stream",
          "name": "stdout",
          "text": [
            "[0, 1, 2, 3, 4, 5, 6, 7, 8, 9]\n"
          ]
        }
      ]
    },
    {
      "cell_type": "code",
      "source": [
        "mylist = list(range(10))\n",
        "mylist = [ i for i in range(10)] #list컴프리헨션 집합의 조건 제시법\n",
        "mylist"
      ],
      "metadata": {
        "colab": {
          "base_uri": "https://localhost:8080/"
        },
        "id": "3rVX-u6TgPpg",
        "outputId": "075bbeae-4c5c-447a-bf52-e6c19f063d26"
      },
      "execution_count": 19,
      "outputs": [
        {
          "output_type": "execute_result",
          "data": {
            "text/plain": [
              "[0, 1, 2, 3, 4, 5, 6, 7, 8, 9]"
            ]
          },
          "metadata": {},
          "execution_count": 19
        }
      ]
    }
  ]
}